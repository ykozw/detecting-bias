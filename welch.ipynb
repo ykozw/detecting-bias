{
 "cells": [
  {
   "cell_type": "code",
   "execution_count": 2,
   "metadata": {},
   "outputs": [],
   "source": [
    "import sys\n",
    "\n",
    "import matplotlib.pyplot as plt\n",
    "import scipy.stats\n",
    "import math\n",
    "import numpy as np\n",
    "from textwrap import wrap"
   ]
  },
  {
   "cell_type": "code",
   "execution_count": 3,
   "metadata": {},
   "outputs": [],
   "source": [
    "#\n",
    "def plot_hist(input_files, outfile, num_bins, title_prefix, save_png=False):\n",
    "\n",
    "    validstring = \"\"\n",
    "\n",
    "    #read input file containing sample values separated by \" \", with trailing whitespace\n",
    "    samples = []\n",
    "    for input_file in input_files:\n",
    "        with open(input_file, 'r') as f:\n",
    "            x = [l.split(\" \") for l in f]\n",
    "            y = list(filter(lambda z: len(z) > 0, x[0]))\n",
    "\n",
    "            # old format only stores pvalues in file, new format stores number of p-values in first number\n",
    "            if not (\".\" in y[0]):\n",
    "              y.pop(0)\n",
    "              validstring = \" valid\"\n",
    "            samples.extend([float(a) for a in y])\n",
    "\n",
    "\n",
    "    # logging\n",
    "#    for s in samples:\n",
    "#      if s > 1.0:\n",
    "#          print(s)\n",
    "\n",
    "\n",
    "\n",
    "    # compute sample mean and sample variance\n",
    "    N = (float)(len(samples))\n",
    "    sample_sum = sum(samples)\n",
    "    sample_mean = sample_sum / N\n",
    "    sample_var_2 = (1/(N-1)) * (sum(map(lambda x: x*x, samples)) - (1/N) * (sample_sum * sample_sum))\n",
    "    sample_var = math.sqrt(sample_var_2)\n",
    "    print(\"sample mean: \" + str(sample_mean))\n",
    "    print(\"sample var: \" + str(sample_var_2))\n",
    "\n",
    "    # generate lists for plotting sample mean and sample variance\n",
    "    mean_x = [sample_mean]\n",
    "    mean_y = [0]\n",
    "    var_x = [sample_mean - sample_var, sample_mean + sample_var]\n",
    "    var_y = [0,0]\n",
    "\n",
    "    # plot mean as red dot\n",
    "    plt.plot(mean_x, mean_y, \"ro\")\n",
    "\n",
    "    # plot histogram\n",
    "    plottitle = str(len(samples)) + validstring + \" Welch samples, \" + str(num_bins) + \" bins\"\n",
    "    n, bins, patches = plt.hist(samples, \n",
    "                                num_bins,\n",
    "                                density=True,\n",
    "                                facecolor='blue', \n",
    "                                alpha=0.3)\n",
    "\n",
    "\n",
    "\n",
    "    plt.grid(which='major', ls='solid', color='lightgray')\n",
    "    plt.gca().set_axisbelow(True)\n",
    "\n",
    "    \n",
    "    t = title_prefix + plottitle\n",
    "    plt.title(\"\\n\".join(wrap(t)))\n",
    "    \n",
    "    plt.savefig(outfile +\".pdf\")\n",
    "    if save_png:\n",
    "        plt.savefig(outfile+\".png\")\n",
    "   # plt.show()\n",
    "\n"
   ]
  },
  {
   "cell_type": "code",
   "execution_count": 6,
   "metadata": {},
   "outputs": [
    {
     "name": "stdout",
     "output_type": "stream",
     "text": [
      "sample mean: 0.8139855320261444\n",
      "sample var: 0.04139437046961706\n"
     ]
    },
    {
     "data": {
      "image/png": "[encoded data removed]",
      "text/plain": [
       "<Figure size 432x288 with 1 Axes>"
      ]
     },
     "metadata": {
      "needs_background": "light"
     },
     "output_type": "display_data"
    }
   ],
   "source": [
    "# for p-values 30 seems a nice number of bins, as there are ~1700 values\n",
    "# (576*3 with our test scenes, depending on the image resolution), at least when every block makes sense\n",
    "# if some image regions are pure black anyway, their p-values should be discarded before being passed to this script!\n",
    "num_bins = 30\n",
    "\n",
    "if len(sys.argv) < 4:\n",
    "  print(\"wrong args. supposed to be pvalhist.py inputfile.txt render1 render2\")\n",
    "  quit()\n",
    "\n",
    "# some file parsing\n",
    "def remove_path_and_ending(filename):\n",
    "  return filename.split(\"/\")[-1].split(\".\")[0]\n",
    "\n",
    "input_file = \"C:/dev/biasdetector/build/pvalues.txt\"\n",
    "r1 = sys.argv[2].replace(\"_\",\" \")\n",
    "r2 = sys.argv[3].replace(\"_\",\" \")\n",
    "\n",
    "r1 = remove_path_and_ending(r1)\n",
    "r2 = remove_path_and_ending(r2)\n",
    "\n",
    "save_png = False\n",
    "if len(sys.argv) > 4:\n",
    "  if (sys.argv[4] == \"--png\"):\n",
    "    save_png = True\n",
    "    print(\"Also saving png file.\")\n",
    "\n",
    "title_prefix = \"pvalues \" + r1 + \" vs \" + r2 + \", \"\n",
    "outfile = input_file.replace(\".txt\",\"\")\n",
    "\n",
    "# plot histogram\n",
    "plot_hist([input_file], outfile, num_bins, title_prefix, save_png)\n"
   ]
  },
  {
   "cell_type": "code",
   "execution_count": null,
   "metadata": {},
   "outputs": [],
   "source": []
  }
 ],
 "metadata": {
  "interpreter": {
   "hash": "b3ba2566441a7c06988d0923437866b63cedc61552a5af99d1f4fb67d367b25f"
  },
  "kernelspec": {
   "display_name": "Python 3.8.8 64-bit",
   "name": "python3"
  },
  "language_info": {
   "codemirror_mode": {
    "name": "ipython",
    "version": 3
   },
   "file_extension": ".py",
   "mimetype": "text/x-python",
   "name": "python",
   "nbconvert_exporter": "python",
   "pygments_lexer": "ipython3",
   "version": "3.9.7"
  },
  "orig_nbformat": 2
 },
 "nbformat": 4,
 "nbformat_minor": 2
}
